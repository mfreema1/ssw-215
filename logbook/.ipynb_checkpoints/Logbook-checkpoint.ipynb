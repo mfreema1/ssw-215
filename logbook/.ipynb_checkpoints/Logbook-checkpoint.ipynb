{
 "cells": [
  {
   "cell_type": "markdown",
   "metadata": {},
   "source": [
    "__Mark Freeman__ 1/23/2018 Software Engineering Logbook\n",
    "\n",
    "__Entry 1: 1/23/2018__  Completed homework assignment 1 using HTML.  Assignment was submitted with 96 lines of code after roughly a half hour of programming in-class.\n",
    "\n",
    "Using HTML was pretty easy since I've been fairly experienced with web development and it's only a markup language after all.  Use of CSS in a separate document was banned, so inline styling had to be used which didn't make for some eloquent code but it came out alright at just under 100 lines.  I'm pretty confident I accomplished what was asked of me, although the guidelines for the project seemed somewhat vague.  I think this will improve as the projects get more difficult, and I think I'll really appreciate the challenge."
   ]
  },
  {
   "cell_type": "markdown",
   "metadata": {},
   "source": [
    "__Entry 2: 2/1/2018__ Performing some in-class programming in C++ for CPE 360.  This was over the course of about 50 minutes, simply a crash-course on getting back into C++.  Final length of assignment was 65 lines.\n",
    "\n",
    "We accomplished this on my Linux machine.  Since Visual Studio Code does not have a C++ compiler built into it, we installed g++ via `apt get`.  Then we simply ran it from the terminal using `./a.out`.  This is because `a` is the default output file for g++.  I really enjoy programming in C++, so I'm looking forward to some more complicated concepts."
   ]
  },
  {
   "cell_type": "markdown",
   "metadata": {},
   "source": [
    "__Entry 3: 2/1/2018__ Working on the second homework assignment separating the previous homework into an individual html and individual CSS file linked via a `link` tag in the `head` of the html file.  Overall, this was about 50 lines of CSS over the course of an hour.  Most of the time was spent rearranging and pulling previous inline styles from the html and hoisting them up to the nearest parent element."
   ]
  },
  {
   "cell_type": "markdown",
   "metadata": {
    "collapsed": true
   },
   "source": [
    "__Entry 4: 2/2/2018__ Doing some work in the new Grow with Google Scholars program I just found out I was admitted to.  During this, we will be working through a Udacity course focused around some pretty advanced web development.  Today I took quite a bit of notes (around 2 hours) on the benefits of creating applications with spotty connections in mind.  This is called _offline-first development._\n",
    "\n",
    "I'm really excited by this opportunity, hopefully it can grow into a full scholarship with the mobile web specialist program.  It'd be awesome to get to take part in that.  The odds are looking good, I believe it's around 10% admittance from here into that program, and around that many students will probably finish the course, as pass rates for these online courses are generally low, so things are looking up."
   ]
  },
  {
   "cell_type": "markdown",
   "metadata": {},
   "source": [
    "__Entry 5: 2/4/2018__ Doing some more work in the Grow with Google program.  Today, we're learning all about the service worker and the sorts of strengths it gives to developers.\n",
    "\n",
    "We ended up setting up a service worker on an example application called _wittr_, basically a twitter clone.  Setting up a service worker is actually pretty easy, and the idea of scoping a service worker to control what specific URL's it interacts with is a nice feature.  Will continue work on this clone soon."
   ]
  },
  {
   "cell_type": "markdown",
   "metadata": {},
   "source": [
    "__Entry 6: 2/6/2018__ Today we went over some more JavaScript in SSW215.  I think we're approaching the end of our discussion on JavaScript.  We went over arrays, strings, objects, and other introductory things like that.  Also completed homework assignment 3 in class, fundamentals of JavaScript.  This took about 45 minutes in class, coming in at 93 lines if I recall correctly.\n",
    "\n",
    "Professor Vesonder also made a proposal in which more advanced students do not need to come to class and isntead only complete the homework assignments and tests.  In addition they will take a more advanced project to test their skills more effectively.  I think I will take him up on this, will need to discuss further on Thursday's meeting."
   ]
  },
  {
   "cell_type": "markdown",
   "metadata": {},
   "source": [
    "__Entry 7: 2/6/2018__ Completed around 150 lines of C++ code in a double-lecture for CPE360.  Approximately an hour and 40 minutes was spent on this.  We went over some more basic C++ things like arguments, allocation of memory, and recursion.\n",
    "\n",
    "We were also introduced to the tower of hanoi problem.  If we can solve it without using recursion, then we are exempt from the first assignment.  I will be looking into this."
   ]
  },
  {
   "cell_type": "markdown",
   "metadata": {},
   "source": [
    "__Entry 8: 2/8/2018__ Wrote about 50 lines of C++ code in-class for CPE360.  We were introduced to pointers, dereferencing, and the like in C++.  This seems like a really interesting concept, especially considering how much I've heard/read about it in passing.\n",
    "\n",
    "Also took my first crack at solving the tower of hanoi problem without recursion.  I started by looking up the game on Wikipedia and figuring out a set of steps I could repeat to solve the game.  I then wrote a few flow-chart diagrams of the code, which forced me to really thinking about how it would operate in terms of functions, loops, etc.  I then started writing some pseudocode on paper, thinking of the structures I wanted to use as well as the functions I might want to employ.  Will save any actual code for tomorrow."
   ]
  },
  {
   "cell_type": "markdown",
   "metadata": {},
   "source": [
    "__Entry 9: 2/9/2018__ Wrote the skeleton of the tower of hanoi problem, totaling about 120 lines in C++ over about 3 or 4 hours.  The solution compiles so far, but does not work, receiving segmentation fault errors.  It relies very heavily on the use of pointers to save on memory, although I'm not terribly familiar with them.  I believe this is a more elegant solution than passing around entire vectors, and is a challenge I'm up for.  It should make me a better coder when it's all said and done."
   ]
  },
  {
   "cell_type": "markdown",
   "metadata": {},
   "source": [
    "__Entry 10: 2/11/2018__ Ran into some issues this afternoon with the tower of hanoi problem.  I quickly set up a debugging environment in VS Code, (which is extremely helpful by the way, be sure to continue setting those up in the future, also major props to VS Code), which really helped speed up the process of debugging.  Likely would not have finished had I not done so.\n",
    "\n",
    "After about 4 hours, the solution was finished, coming in at about 100 lines of code.  The code is not as dry as it could be, I think some of the functions could be reworked, but at least for now, I'm pretty happy with how elegant and efficient the code is."
   ]
  },
  {
   "cell_type": "markdown",
   "metadata": {},
   "source": [
    "__Entry 11: 2/11/2018__ Finished HW4 on arrays and objects for SSW215.  This program was written in JavaScript, about 45 lines long, and took approximately a half hour to write.  This was similar to an exercise in JSON, so it was pretty simple."
   ]
  },
  {
   "cell_type": "markdown",
   "metadata": {},
   "source": [
    "__Entry 12: 2/12/2018__ Started HW5, working with the DOM selectors in JavaScript.  These are a little more tricky than the other stuff we've been doing before.  Either that or I'm very tired because it is very late currently.  Completed around 30 lines of JavaScript for the HW, taking around 45 minutes.\n",
    "\n",
    "Also started setting up the new website for Venture Hacks.  I've linked our domain to firebase, and Google just finished authenticating our security certificate, so all that's left to do is `firebase serve` and `firebase deploy` after writing the code for the static files of course."
   ]
  },
  {
   "cell_type": "markdown",
   "metadata": {},
   "source": [
    "__Entry 13: 2/13/2018__ Took a double lecture of notes (100 minutes) of notes for CPE360.  This totaled about 100 lines of C++.  We were introduced to objects and classes in C++, as well as creating dynamic variables inside of the heap.  We also learned that creation of an object in the heap returns the address of the object, otherwise it is nameless.\n",
    "\n",
    "This is a very interesting topic to me, as it seems like a gateway to constructing advanced data structures.  Future lectures will likely expand on this topic."
   ]
  },
  {
   "cell_type": "markdown",
   "metadata": {},
   "source": [
    "__Entry 14: 2/13/2018__ Finished and submitted homework 5 on interaction with the DOM.  I did need to refresh on some of the selectors, so it was fairly challenging.  This took me about an hour to finish, as I did want to have some fun with some of the functions.  It ended up being around 50 lines of JavaScript."
   ]
  },
  {
   "cell_type": "markdown",
   "metadata": {},
   "source": [
    "__Entry 15: 2/14/2018__ Started my first day at my new job as an Applications Development Intern for Willkie Farr & Gallagher.  I'll be working on a project inside of the Kony Visualizer framework.  My manager will give me further information on the project on Friday and we'll set up requirements.  To be honest, this framework seems nice for prototyping, but not for deploying proudction applications.  The youtube tutorials have a pretty good amount of downvotes, hopefully I can find a training series through work to help in learning it."
   ]
  },
  {
   "cell_type": "markdown",
   "metadata": {},
   "source": [
    "__Entry 16: 2/15/2018__ Working on some C++ code inside of a 50 minute lecture.  We're working with linked lists, creation of objects in the heap, and deletion of objects in the heap without creating memory leaks.  This totaled about 80 lines of C++."
   ]
  },
  {
   "cell_type": "markdown",
   "metadata": {},
   "source": [
    "__Entry 17: 2/17/2018__ Started and finished homework six on SQLite, which was only around 7 lines of SQL.  However, this assignment did take me roughly an hour and a half to complete, including installation of sqlite3, debugging, and all that.  This is a database scripting language it seems.  I had actually previously used SQLite inside of Android before, so it was fairly intuitive once I got to actually writing SQL.  I am semi-familiar with many of the commands inside of SQL, but I do believe I could gather more knowledge on it in the future.\n",
    "\n",
    "I've recently started reading the textbook they use for CS546, so I'm sure that text will cover SQL and other databases (as well as the whole web software stack) in more detail."
   ]
  },
  {
   "cell_type": "markdown",
   "metadata": {},
   "source": [
    "__Entry 18: 2/18/2018__ I'm getting further in that textbook I bought on web application design.  I hit the installation section of the book, going through a few hours of setting up a MySQL, PHP, and Apache stack on my Windows machine.  This was about two hours of modifying config files and moving through installers.\n",
    "\n",
    "Really excited to be learning PHP though, seems like many modern languages derive a lot from PHP."
   ]
  },
  {
   "cell_type": "markdown",
   "metadata": {},
   "source": [
    "__Entry 19: 2/19/2018__ Had quite a bit of computer engineering homework to do today. I spent about an hour writing some assembly code and installing an assembly compiler for cpe-390.  Then I spent about an hour and a half on big-O analysis of functions for cpe-360.  This won't be on GitHub as it was a handwritten assignment.\n",
    "\n",
    "Also getting much farther in the web application design textbook, learning a lot about PHP syntax.  Can't wait to see how the software stack I installed all links together.  Should give me a solid foundation for understanding web architecture and design more thoroughly in the future."
   ]
  },
  {
   "cell_type": "markdown",
   "metadata": {},
   "source": [
    "__Entry 20: 2/20/2018__ Had a double lecture of cpe-360 today.  We went over some more on handling linked lists, adding elements into them, deleting elements from them, and displaying the contents of a linked list.  Our exercises today were about 100 lines of C++.  Class ended somewhat early at about an hour and twenty minutes."
   ]
  },
  {
   "cell_type": "markdown",
   "metadata": {},
   "source": [
    "__Entry 21: 2/25/2018__ Messed around with the Mallard server at Stevens today.  Had to SCP a directory of files up and then SSH in to check that everything made it there successfully.  Also aided another student in writing some Python code, around 50 lines taking approximately an hour.\n",
    "\n",
    "The Mallard server is helping me to understand how the web works, as well as how servers operate in general.  Since Mallard is a LAMP server, I think it should help me understand the LAMP stack better as well."
   ]
  },
  {
   "cell_type": "markdown",
   "metadata": {},
   "source": [
    "__Entry 22: 2/26/2018__ Continued research with the LAMP stack and setting things up there.  Things went particularly well today, I've established a connection between MySQL and the HTTP server.  So, if my thinking is right, I need to host the HTTP server so that the Android device can interface with it and then I should be good to go.  Unless I can possibly emulate a device on the Mac Mini and target the host as localhost from there.\n",
    "\n",
    "I also got a lead on a new book I would like to read from a fellow student at the Institute today.  It is called _Computer Science Distilled_.  I will need to see if I can get my hands on a copy of it."
   ]
  },
  {
   "cell_type": "markdown",
   "metadata": {},
   "source": [
    "__Entry 23: 2/27/2018__  Took notes during a double lecture of cpe-360 today.  We went over various data structures including stacks, queues, and linked lists including what sets them apart from each other as well as how to implement them in C++.  This was around 150 lines of C++, over approximately an hour and a half of class.  We only got to implementing stacks and part of a queue in today's class, but will be finishing up the rest on Thursday, which I look forward to."
   ]
  },
  {
   "cell_type": "markdown",
   "metadata": {},
   "source": [
    "__Entry 24: 2/28/2018__ Worked 9-5 today on the Kony Visualizer project for work.  This is certainly an interesting build-once-deploy-all framework.  I'm getting a feel for writing native applications in JavaScript which is cool.  I do miss being as close to the machine as I was with Android, but there are also some things to like about Kony.  The enforcement of the MVC pattern so heavily is somewhat odd, but not too hindering.  Today, I think I wrote around 500 lines of JavaScript if I had to guess, but alot of the work was reading documentation and troubleshooting."
   ]
  },
  {
   "cell_type": "markdown",
   "metadata": {},
   "source": [
    "__Entry 25: 3/1/2018__ Ended up writing quite a bit of assembly code last night for an assignment.  This was around 60 lines of assembly that took me around 2 hours to complete.  It's pretty thought-intensive as far as coding gets.  Also took notes today on C++ in class.  We went over linked lists and received a bonus challenge assignment meant to help boost our grade if we can implement a search and delete function on a linked list object.  I will certainly give it a shot and try to spice up the function if I can."
   ]
  },
  {
   "cell_type": "markdown",
   "metadata": {},
   "source": [
    "__Entry 26: 3/4/2018__ I stayed up a little late tonight to dive into some of the C++ homework (mainly because I thought it would be more fun than reading through some PHP stuff, but not that PHP isn't fun).  Turned out pretty well, I got hung up on implementing a queue for a few minutes, learned to always ground your pointers.  If they're left pointing into the heap void, strange things will happen.  Looking forward to working on the LAMP stack tomorrow as well as finishing up linked list with some interesting search and delete functions."
   ]
  },
  {
   "cell_type": "markdown",
   "metadata": {},
   "source": [
    "__Entry 27: 3/5/2018__ Worked in Altorfer lab from 11am - 1pm today.  Did some work on the PHP server as well as the Android client. I learned that you can directly write html inside of a PHP file with the exact same syntax as a normal html file.  It seems the server will interpret anything with a <?php?> tag into html before sending it off.  \n",
    "Much of today's work with the Android client was settup of Android Studio, installing the SDK, and building out the skeleton of the UI.  Will need to add logic and functionality in the coming weeks."
   ]
  },
  {
   "cell_type": "markdown",
   "metadata": {},
   "source": [
    "__Entry 28: 3/6/2018__ Completed a lot of coding homework today.  I worked for around an hour and a half on some C++ homework for cpe-360.  I find this kind of homework pretty relaxing actually, so I don't mind spending too much time on it.  Overall went through probably 200 line.\n",
    "\n",
    "Also finally completed and handed in the ssw-215 linux backend homework assignment.  That wasn't too much work, alot of it "
   ]
  },
  {
   "cell_type": "markdown",
   "metadata": {},
   "source": [
    "__Entry 29: 3/7/2018__ I did a ton of coding today, most of it was in assembly.  The cpe-390 homework took around 3 and a half hours to do, which was in total around 60 lines.  Much of it is conceptual, and we are just getting into working with the stack so it can be difficult to measure by line count.\n",
    "\n",
    "Also continued work on hw2 for cpe-360.  I implemented two additional functions on my linked-list object -- both the `deleteFirstInstance()` method and the `deleteAllInstances()` method.  These were actually not terribly hard to implement once I drew them both out with pictures, as I had already written a remove at position function to help.  I want to add in one more function to the mix -- a sequential delete function that searches for a value and asks as it goes through if you would like to delete something at the position it found, possibly with an option to end the search mid-way through.  This one will be slightly more involved I imagine, if I have time tomorrow I will see about implementing it."
   ]
  },
  {
   "cell_type": "markdown",
   "metadata": {},
   "source": [
    "__Entry 30: 3/14/2018__ I haven't logged an entry in a little bit so there is a lot to catch up on.  It's currently spring break, I stayed behind at campus to put in some hours writing JavaScript at work.  I've probably written around 600 lines in the past few days of strictly JS.  We've spent some time writing JS modules, using the in-app Kony stores, debugging, and drawing out flow for our finance app.  I'm not a huge fan of Kony Visualizer at this point, but it's a learning experience.\n",
    "\n",
    "I've also got my LAMP stack fully functional and pulling information directly from a database.  This is exciting, as now that I've got that, I can probably translate that technology over to the stack that we'll be using for our SSW-215 application.  I also get access to the power that PHP provides, although I can see developers being upset with this language as it is fairly strange in its syntax.  \n",
    "\n",
    "I haven't gotten the time to write anything for my research with Prof. Vesonder lately, as I've got a lot on my plate at the moment.  Will look into this more going forward, but I guess you could consider work with the LAMP stack to be contributed toward that.  I need to see about hosting our database server on AWS or the GCP to access it from our Android application.  At least I'm pretty sure that's how that will work."
   ]
  },
  {
   "cell_type": "markdown",
   "metadata": {},
   "source": [
    "__Entry 31__: Been quite busy between Venture Hacks, the apartment getting settled, and courses starting to all have their final projects converge.  Woke up very early this morning to get started on the \"Shut the box\" assignment which I finished a little bit ago.  This was around 75 lines of Python and probably took me about an hour.  I know I could have done it much more easily using some object-oriented Python, but I went with a quick and dirty solution for right now.\n",
    "\n",
    "Looking forward, I really need to get going on this project, otherwise it's going to cause me some more issues later down the line.  I think for this, we can use a Bootstrapped LAMP stack sitting inside an EC2 instance.  This will likely give us the greatest ease of access and control over our web application."
   ]
  },
  {
   "cell_type": "markdown",
   "metadata": {},
   "source": [
    "__Entry 32: 4/17/2018__ I can't seem to be quite consistent enough with this logbook anymore.  The plannr application is coming along.  We've finished defining and testing the validity of our database schema.  We will need to implement this into our Django system (we switched to Python on the back-end for some data science supported by Django.  \n",
    "\n",
    "Ultimately the idea is going to be to observe the kinds of things that people are planning on doing and seeing the general direction of where their life is headed.  I'd like to attempt to use sentiment analysis on this to see if I can trace the path of peoples' lives just based on what they'll put in their journal.\n",
    "\n",
    "Another thing I'd like to add is to look at would be sort of an IoT approach to things.  Perhaps we could take their daily task list and run it through an AWS text-to-speech function to generate notes for people on the fly.  This could be interesting, but I'm mainly concerned with the sentiment analysis engine aspect of this project.\n",
    "\n",
    "Of course we'll actually need to get the application up and running first.  I'm concerned with how users will input data into the system mainly.  I'm not quite sure how this will be done.  Right now I can see how we would use the Django-admin interface to populate our data, but assigning roles to users and allowing them to modify the database seems like it will be tricky.  I guess we'll find out how tricky that is soon."
   ]
  },
  {
   "cell_type": "markdown",
   "metadata": {},
   "source": [
    "__Entry 33: 4/25/2018__ Still been super busy and can't seem to get back into the groove of things.  Finals are right around the corner and just about every class has a final project of some kind associated with it.  Anyways, I've kept continuing work on the Plannr project.  It's coming along pretty nicely, I just really need a few things left.\n",
    "1. I need to filter the database according to which user is currently logged in.  This ensures user privacy.\n",
    "2. I need to allow users to have access to forms that modify the database.  This is how they will add to their entries.\n",
    "3. I need to allow for password resetting via some basic forms.  I think it currently is erroring due to some naming issues that need to be worked out.\n",
    "4. I need to deploy the application to an AWS instance with NGINX and Gunicorn.  There should be some pretty straightforward tutorials out there for how to do this, so I don't think it will be too difficult.\n",
    "\n",
    "It'll be tough to get this all out on time while still getting the other projects done, especially for Mukund's class, but I'll give it a shot."
   ]
  }
 ],
 "metadata": {
  "kernelspec": {
   "display_name": "Python 2",
   "language": "python",
   "name": "python2"
  },
  "language_info": {
   "codemirror_mode": {
    "name": "ipython",
    "version": 2
   },
   "file_extension": ".py",
   "mimetype": "text/x-python",
   "name": "python",
   "nbconvert_exporter": "python",
   "pygments_lexer": "ipython2",
   "version": "2.7.12"
  },
  "toc": {
   "nav_menu": {},
   "number_sections": true,
   "sideBar": true,
   "skip_h1_title": false,
   "toc_cell": false,
   "toc_position": {},
   "toc_section_display": "block",
   "toc_window_display": false
  }
 },
 "nbformat": 4,
 "nbformat_minor": 2
}
