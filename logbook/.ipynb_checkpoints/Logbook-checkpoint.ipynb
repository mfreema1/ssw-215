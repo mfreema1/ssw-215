{
 "cells": [
  {
   "cell_type": "markdown",
   "metadata": {},
   "source": [
    "__Mark Freeman__ 1/23/2018 Software Engineering Logbook\n",
    "\n",
    "__Entry 1: 1/23/2018__  Completed homework assignment 1 using HTML.  Assignment was submitted with 96 lines of code after roughly a half hour of programming in-class.\n",
    "\n",
    "Using HTML was pretty easy since I've been fairly experienced with web development and it's only a markup language after all.  Use of CSS in a separate document was banned, so inline styling had to be used which didn't make for some eloquent code but it came out alright at just under 100 lines.  I'm pretty confident I accomplished what was asked of me, although the guidelines for the project seemed somewhat vague.  I think this will improve as the projects get more difficult, and I think I'll really appreciate the challenge."
   ]
  },
  {
   "cell_type": "markdown",
   "metadata": {},
   "source": [
    "__Entry 2: 2/1/2018__ Performing some in-class programming in C++ for CPE 360.  This was over the course of about 50 minutes, simply a crash-course on getting back into C++.  Final length of assignment was 65 lines.\n",
    "\n",
    "We accomplished this on my Linux machine.  Since Visual Studio Code does not have a C++ compiler built into it, we installed g++ via `apt get`.  Then we simply ran it from the terminal using `./a.out`.  This is because `a` is the default output file for g++.  I really enjoy programming in C++, so I'm looking forward to some more complicated concepts."
   ]
  },
  {
   "cell_type": "markdown",
   "metadata": {},
   "source": [
    "__Entry 3: 2/1/2018__ Working on the second homework assignment separating the previous homework into an individual html and individual CSS file linked via a `link` tag in the `head` of the html file.  Overall, this was about 50 lines of CSS over the course of an hour.  Most of the time was spent rearranging and pulling previous inline styles from the html and hoisting them up to the nearest parent element."
   ]
  },
  {
   "cell_type": "code",
   "execution_count": null,
   "metadata": {
    "collapsed": true
   },
   "outputs": [],
   "source": []
  }
 ],
 "metadata": {
  "kernelspec": {
   "display_name": "Python 3",
   "language": "python",
   "name": "python3"
  },
  "language_info": {
   "codemirror_mode": {
    "name": "ipython",
    "version": 3
   },
   "file_extension": ".py",
   "mimetype": "text/x-python",
   "name": "python",
   "nbconvert_exporter": "python",
   "pygments_lexer": "ipython3",
   "version": "3.6.3"
  },
  "toc": {
   "nav_menu": {},
   "number_sections": true,
   "sideBar": true,
   "skip_h1_title": false,
   "toc_cell": false,
   "toc_position": {},
   "toc_section_display": "block",
   "toc_window_display": false
  }
 },
 "nbformat": 4,
 "nbformat_minor": 2
}
